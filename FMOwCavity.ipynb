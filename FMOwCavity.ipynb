{
 "cells": [
  {
   "cell_type": "code",
   "execution_count": 24,
   "metadata": {},
   "outputs": [],
   "source": [
    "# import qutip packages\n",
    "from qutip import *\n",
    "import krotov\n",
    "import numpy as np\n",
    "import scipy as sp\n",
    "import matplotlib.pyplot as plt\n",
    "import numpy.random as rnd\n",
    "import matplotlib.pyplot as plt\n",
    "from matplotlib import colors\n",
    "import numpy as np\n",
    "import scipy"
   ]
  },
  {
   "cell_type": "markdown",
   "metadata": {},
   "source": [
    "$\\newcommand{tr}[0]{\\operatorname{tr}}\n",
    "\\newcommand{diag}[0]{\\operatorname{diag}}\n",
    "\\newcommand{abs}[0]{\\operatorname{abs}}\n",
    "\\newcommand{pop}[0]{\\operatorname{pop}}\n",
    "\\newcommand{aux}[0]{\\text{aux}}\n",
    "\\newcommand{opt}[0]{\\text{opt}}\n",
    "\\newcommand{tgt}[0]{\\text{tgt}}\n",
    "\\newcommand{init}[0]{\\text{init}}\n",
    "\\newcommand{lab}[0]{\\text{lab}}\n",
    "\\newcommand{rwa}[0]{\\text{rwa}}\n",
    "\\newcommand{bra}[1]{\\langle#1\\vert}\n",
    "\\newcommand{ket}[1]{\\vert#1\\rangle}\n",
    "\\newcommand{Bra}[1]{\\left\\langle#1\\right\\vert}\n",
    "\\newcommand{Ket}[1]{\\left\\vert#1\\right\\rangle}\n",
    "\\newcommand{Braket}[2]{\\left\\langle #1\\vphantom{#2} \\mid #2\\vphantom{#1}\\right\\rangle}\n",
    "\\newcommand{op}[1]{\\hat{#1}}\n",
    "\\newcommand{Op}[1]{\\hat{#1}}\n",
    "\\newcommand{dd}[0]{\\,\\text{d}}\n",
    "\\newcommand{Liouville}[0]{\\mathcal{L}}\n",
    "\\newcommand{DynMap}[0]{\\mathcal{E}}\n",
    "\\newcommand{identity}[0]{\\mathbf{1}}\n",
    "\\newcommand{Norm}[1]{\\lVert#1\\rVert}\n",
    "\\newcommand{Abs}[1]{\\left\\vert#1\\right\\vert}\n",
    "\\newcommand{avg}[1]{\\langle#1\\rangle}\n",
    "\\newcommand{Avg}[1]{\\left\\langle#1\\right\\rangle}\n",
    "\\newcommand{AbsSq}[1]{\\left\\vert#1\\right\\vert^2}\n",
    "\\newcommand{Re}[0]{\\operatorname{Re}}\n",
    "\\newcommand{Im}[0]{\\operatorname{Im}}$"
   ]
  },
  {
   "cell_type": "markdown",
   "metadata": {},
   "source": [
    "# The Model (FMO with N Sites/Qubits)"
   ]
  },
  {
   "cell_type": "markdown",
   "metadata": {},
   "source": [
    "# Define the Hamiltonian and Liouvillian"
   ]
  },
  {
   "cell_type": "markdown",
   "metadata": {},
   "source": [
    "We model our network model based on previous theoretical descriptions of PPCs as a network composed of distinct sites, one of which receives a single excitation (which we choose to be $\\ket{1}$ for the time being) and one site to be connected to the Reaction Center/Sink (which we choose to be $\\ket{N}$.  The network of $N$ sites is described by the Hamiltonian with hopping parameters fixed by geometry and dipolar structure of site interactions:\n",
    "\n",
    "$H = \\Sigma_{j = 1}^N \\hbar \\omega_j \\sigma_j^+ \\sigma_j^- + \\Sigma_{j \\ne l} \\hbar \\nu_{j,l} (\\sigma_j^- \\sigma_l^+ + \\sigma_j^+ \\sigma_l^-)$\n",
    "\n",
    "where we define the raising and lowering operators to be $\\sigma_j^+ = \\ket{j}\\bra{0}$ and $\\sigma_j^- = \\ket{0}\\bra{j}$ for site $j$, and state $j$ denoting one excitation in the site $j$ and $\\ket{0}$ is the zero excitation states.  $\\hbar \\omega_j$ are the local site energies and $\\nu_{j, l}$ are the coherent tunneling amplitudes between sites $j$ and $l$ (we do not consider microscoping coupling).  Our Hilbert space is actually defined as $N + 2$ states because we define an additional sink state at $\\ket{N+1}$."
   ]
  },
  {
   "cell_type": "markdown",
   "metadata": {},
   "source": [
    "# Cavity Addition"
   ]
  },
  {
   "cell_type": "markdown",
   "metadata": {},
   "source": [
    "The system is confined inside an optical cavity in the strong coupling regime with resonance frequency $omega_c$ where the Jaynes-Cummings model can be adopted. Energy is injected into the system with an external laser pump with frequency $omega_l$.  We will consider the pump field to be a continuous wave.  We will consider the case where the pump field is turned on at a certain time, which allows us to explore both the stationary response in the CW field as well as transient excitation dynamics.  We consider collinear polarization of the alser field and cavity mode because the extension of the model to pulsed excitation and cross field polarization is similar.  \n",
    "\n",
    "THe LHC excitation dynamics is characterized by monitoring the mean photon number and second order coherence function of the light leaking out of the cavity.  \n",
    "The cavity Hamiltonian is given by (where $a^+, a$ denote the cavity photon creation, annhilation operators.\n",
    "\n",
    "$H = \\omega_c a^+ a$\n",
    "\n",
    "The coherent interaction between the cavity mode and the system is given by (where $g$ is the coupling constant and $\\mu_i$ is the projection of the transition dipole moment of a site along the polarization of the cavity mode)\n",
    "\n",
    "$H_c = \\Sigma_{i = 1}^N g \\mu_i (\\omega_i^+ a + \\sigma_i^- a^+)$\n",
    "\n",
    "Additionally, we couple the Hamiltonian with an external laser field:\n",
    "$H_l(t) = -\\Sigma_{i = 1}^N \\mu_i E(\\omega, t)\\sigma_i^+ + h.c.$"
   ]
  },
  {
   "cell_type": "markdown",
   "metadata": {},
   "source": [
    "We assume that the system is susceptible simultaneously to two distinct types of noise: a radiative decay process that transfers the excitation energy in site j to the environment with a rate $\\Gamma_j$ and a pure dephasing process with rate $\\gamma_j$ that destroyes phase coherence for localized excitations.  We model the system's density matrix by a Markovian Lindbladian Master Equation:\n",
    "\n",
    "$\\dot{\\rho} = -i[H, \\rho] + \\mathcal{L}_{rad}(\\rho)+ \\mathcal{L}_{deph}(\\rho)$\n",
    "\n",
    "where we define the local radiative and dephasing terms by the Lindblad superoperators $\\mathcal{L}_{rad}$ and $\\mathcal{L}_{deph}$:\n",
    "\n",
    "$\\mathcal{L}_{deph} = \\Sigma_{j = 1}^N\\gamma_j[-\\{\\sigma_j^+ \\sigma_j^-, \\rho\\} + 2\\sigma_j^+ \\sigma_j^- \\rho \\sigma_j^+ \\sigma_j^-]$\n",
    "\n",
    "$\\mathcal{L}_{diss}(\\rho) = \\Sigma_{j = 1}^N\\Gamma_j[-\\{\\sigma_j^+ \\sigma_j^-, \\rho\\} + 2\\sigma_j^- \\rho \\sigma_j^+])$\n",
    "\n",
    "where $\\{A, B\\}$ describes an anticommutator relation."
   ]
  },
  {
   "cell_type": "markdown",
   "metadata": {},
   "source": [
    "We include an additional relaxation through the interaction with the cavity that has a damping channel described by the Lindbladian:\n",
    "\n",
    "$\\mathcal{L}_{C}(\\rho) = \\Gamma_C/2[-\\{a^+ a, \\rho\\} + 2a \\rho a^+])$"
   ]
  },
  {
   "cell_type": "markdown",
   "metadata": {},
   "source": [
    "We measure the total excitation transfer by the population transferred to the Reaction Center, which we model as the sink node as $N + 1$ that is populated by an irreversible decay process with rate $\\Gamma_{N+ 1}$ from a site $k$ (which we choose to be $\\ket{N}$ and described by a Lindblad operator:\n",
    "\n",
    " $\\mathcal{L}_{sink}(\\rho) = \\Gamma_c[2 \\sigma_c^+ \\sigma_k^- \\rho \\sigma_k^+ \\sigma_c^- - \\{\\sigma_k^+ \\sigma_c^- \\sigma_c^+, \\rho \\}]))$"
   ]
  },
  {
   "cell_type": "markdown",
   "metadata": {},
   "source": [
    "Our objective is to measure the excitation transfer by measuring the population to the sink.  The sink population is modeled by $p_{sink}(t) = 2\\Gamma_c \\int_0^t\\rho_{kk}(t') dt'$."
   ]
  },
  {
   "cell_type": "markdown",
   "metadata": {},
   "source": [
    "# Problem Parameters"
   ]
  },
  {
   "cell_type": "markdown",
   "metadata": {},
   "source": [
    "Here we use units where ℏ=1:"
   ]
  },
  {
   "cell_type": "code",
   "execution_count": 54,
   "metadata": {},
   "outputs": [],
   "source": [
    "# define units for the problem\n",
    "hbar = 1;"
   ]
  },
  {
   "cell_type": "code",
   "execution_count": 91,
   "metadata": {},
   "outputs": [],
   "source": [
    "# define FMO system for initial state excited at state 1\n",
    "N = 3;\n",
    "M = 20;\n",
    "#input:\n",
    "\n",
    "# N = number of sites, site N + 1 being the sink, and a site 0 being the zero exciton state, \n",
    "# thus giving a Hilbert space of N + 2\n",
    "# M = number of cavity fock states \n",
    "# wc = cavity frequency \n",
    "# g = coupling constant \n",
    "# use_rwa = use the rwa approximation (true/false)\n",
    "# mu = projection of transition dipole moment of single site along polarization of cavity mode\n",
    "# omega = local site energies, given in an array of length N\n",
    "# nu = coherent tunneling amplitude between site i and j, where i,j are from 1 to N, given as an NxN symmetric matrix\n",
    "# Gamma = rate or radiative decay process that transfers excitation in site j to environment, given as array of length N\n",
    "# gamma = rate of pure dephasing that destroys phase coherence for localized excitations, given as array of length N\n",
    "# Gamma_c = rate of irreversible decay from site k to sink, given as double \n",
    "# tlist = evolution time\n",
    "\n",
    "def FMO_solve(N, M, g, wc, mu, use_rwa, omega, nu, Gamma, gamma, Gamma_c, cavity_Gamma, tlist):\n",
    "    \n",
    "    # describe vacuum state for sites \n",
    "    vac = qutip.basis(N + 2, 0)\n",
    "    # describe vacuum state for cavity photons with M cavity fock states\n",
    "    vac_C = qutip.basis(M, 0)\n",
    "    \n",
    "    # create raising and lowering operators \n",
    "    a = qutip.tensor(destroy(M), qutip.qeye(N + 2))\n",
    "    \n",
    "    # raising and lowering operators for each site\n",
    "    def raise_operator(j):\n",
    "        siteState = qutip.basis(N + 2, j)\n",
    "        return qutip.tensor(qutip.qeye(M), siteState * vac.dag())\n",
    "    \n",
    "    def lower_operator(j):\n",
    "        siteState = qutip.basis(N + 2, j)\n",
    "        return qutip.tensor(qutip.qeye(M), vac*siteState.dag())\n",
    "    \n",
    "    #define the sink state k and generate density matrix for that state k\n",
    "    def target_state(k):\n",
    "        return qutip.ket2dm(raise_operator(k) * (qutip.tensor(vac_C, vac)))\n",
    "    \n",
    "    # build Hamiltonian\n",
    "    H0 = wc * a.dag() * a\n",
    "    \n",
    "    # create Hamiltonian summing \n",
    "    if use_rwa:\n",
    "        for i in range(N):\n",
    "            H = hbar * g * mu * (raise_operator(i + 1) * a + lower_operator(i + 1) * a.dag())\n",
    "            H0 = H0 + H\n",
    "        else:\n",
    "            for i in range(N):\n",
    "                H = hbar * g * mu * (a.dag() + a) * (lower_operator(i + 1) * raise_operator(i + 1))\n",
    "                H0 = H0 + H\n",
    "    \n",
    "    # create Hamiltonian summing over all sites N and site energies vector omega\n",
    "    for i in range(N):\n",
    "        H = hbar * omega[i] / 2 * raise_operator(i + 1) * lower_operator(i + 1)\n",
    "        \n",
    "    # create interaction Hamiltonian summing over all sites N given matrix nu for coherent tunneling amplitudes \n",
    "    for i in range(N):\n",
    "        for j in range(N):\n",
    "            if (i != j):\n",
    "                    H = hbar * nu[i,j] * (lower_operator(j + 1) * raise_operator(i + 1) + raise_operator(j + 1) * lower_operator(i + 1))\n",
    "                    H0 = H0 + H\n",
    "                    \n",
    "    # define initial density matrix for initial state, which we take to be |1>\n",
    "    rho0 = qutip.ket2dm(raise_operator(1) * (qutip.tensor(vac_C, vac)))\n",
    "                    \n",
    "    # define Liouvillian for coupled 2-site system\n",
    "    # Define collapse operators\n",
    "    c_ops_list = []\n",
    "    # add radiative and dephasing dissipation\n",
    "    for i in range(N):\n",
    "        c_ops_list.append(np.sqrt(2 * Gamma[i]) * lower_operator(i + 1)) # radiative\n",
    "        c_ops_list.append(np.sqrt(2 * gamma[i]) * raise_operator(i + 1) * lower_operator(i + 1)) # dephasing\n",
    "    # add sink Lindblad collapse \n",
    "    k = N\n",
    "    c_ops_list.append(np.sqrt(2 * Gamma_c) * raise_operator(N + 1) * lower_operator(k))\n",
    "    # cavity relaxation \n",
    "    c_ops_list.append(np.sqrt(2 * cavity_Gamma) * a)\n",
    "    \n",
    " \n",
    "    return qutip.mesolve(H = H0, rho0 = rho0, tlist = tlist, c_ops = c_ops_list, e_ops = target_state(N))"
   ]
  },
  {
   "cell_type": "code",
   "execution_count": 92,
   "metadata": {},
   "outputs": [],
   "source": [
    "def plot_population(result, Gamma_c):\n",
    "    fig, ax = plt.subplots()\n",
    "   \n",
    "    ax.plot(\n",
    "        result.times,\n",
    "        np.abs(np.array(result.expect[0])),label='$p_{k}$'\n",
    "    )\n",
    "    ax.plot(result.times[0:len(result.times) - 1], Gamma_c * 2 * scipy.integrate.cumtrapz(y = np.abs(np.array(result.expect[0])), x = result.times, dx = dt),label='$p_{sink}$')\n",
    "    ax.legend()\n",
    "    ax.set_xlabel('Time')\n",
    "    ax.set_ylabel('Population')\n",
    "    ax.set_title('FMO Evolution')\n",
    "    plt.show(fig)\n",
    "    return [result.times[0:len(result.times) - 1], Gamma_c * 2 * scipy.integrate.cumtrapz(y = np.abs(np.array(result.expect[0])), x = result.times, dx = dt)]"
   ]
  },
  {
   "cell_type": "code",
   "execution_count": 96,
   "metadata": {},
   "outputs": [],
   "source": [
    "def cavityFMO(N, M, cavityfreq, coupling_const, projection_dipole, use_rwa, site_energy, tunneling_strength, rad_rate, deph_rate, Gamma_c, relax_rate, T, nt):\n",
    "    use_rwa = True\n",
    "    \n",
    "    wc = cavityfreq * 1.0 * 2 * np.pi\n",
    "    \n",
    "    g = coupling_const * 1.0\n",
    "    \n",
    "    mu = projection_dipole * 1.0\n",
    "    \n",
    "    cavity_Gamma = relax_rate * 1.0\n",
    "    \n",
    "    omega0 = np.asarray(tunneling_strength*np.ones(n))\n",
    "    omega = omega0 * site_energy\n",
    "    \n",
    "    nu = np.asarray(tunneling_strength*np.ones(shape = (n,n)))\n",
    "    \n",
    "    Gamma = np.asarray(np.ones(n))\n",
    "    Gamma = np.asarray(Gamma) * rad_rate\n",
    "    \n",
    "    gamma = np.asarray(np.ones(n))\n",
    "    gamma = np.asarray(gamma) * deph_rate\n",
    "    \n",
    "    Gamma_c = 1.0\n",
    "    \n",
    "    tlist = np.linspace(0, T, nt)\n",
    "    dt = tlist[1] - tlist[0]\n",
    "\n",
    "    result =  FMO_solve(N, M, g, wc, mu, use_rwa, omega, nu, Gamma, gamma, Gamma_c, cavity_Gamma, tlist)\n",
    "    return plot_population(result, Gamma_c)"
   ]
  },
  {
   "cell_type": "code",
   "execution_count": 102,
   "metadata": {},
   "outputs": [
    {
     "data": {
      "image/png": "[encoded data removed]",
      "text/plain": [
       "<Figure size 432x288 with 1 Axes>"
      ]
     },
     "metadata": {
      "needs_background": "light"
     },
     "output_type": "display_data"
    }
   ],
   "source": [
    "n = 3\n",
    "m = 10\n",
    "cavityfreq = 1.0\n",
    "coupling_const = 1.0\n",
    "projection_dipole = 1.0\n",
    "use_rwa = True\n",
    "relax_rate = 1.0\n",
    "site_energy = 1.0\n",
    "tunneling_strength = 1.0\n",
    "rad_rate = 0.0\n",
    "deph_rate = 0.0\n",
    "Gamma_c = 1.0\n",
    "T = 200\n",
    "nt = 2500\n",
    "tlist = np.linspace(0, T, nt)\n",
    "dt = tlist[1] - tlist[0]\n",
    "\n",
    "nodiss = cavityFMO(n, m, cavityfreq, coupling_const, projection_dipole, use_rwa, site_energy, tunneling_strength, rad_rate, deph_rate, Gamma_c, relax_rate, T, nt)"
   ]
  },
  {
   "cell_type": "code",
   "execution_count": 103,
   "metadata": {},
   "outputs": [
    {
     "data": {
      "image/png": "[encoded data removed]",
      "text/plain": [
       "<Figure size 432x288 with 1 Axes>"
      ]
     },
     "metadata": {
      "needs_background": "light"
     },
     "output_type": "display_data"
    }
   ],
   "source": [
    "n = 3\n",
    "m = 10\n",
    "cavityfreq = 1.0\n",
    "coupling_const = 1.0\n",
    "projection_dipole = 1.0\n",
    "use_rwa = True\n",
    "relax_rate = 1.0\n",
    "site_energy = 1.0\n",
    "tunneling_strength = 1.0\n",
    "rad_rate = 0.0\n",
    "deph_rate = 1.0\n",
    "Gamma_c = 1.0\n",
    "T = 200\n",
    "nt = 2500\n",
    "tlist = np.linspace(0, T, nt)\n",
    "dt = tlist[1] - tlist[0]\n",
    "\n",
    "nodiss = cavityFMO(n, m, cavityfreq, coupling_const, projection_dipole, use_rwa, site_energy, tunneling_strength, rad_rate, deph_rate, Gamma_c, relax_rate, T, nt)"
   ]
  }
 ],
 "metadata": {
  "kernelspec": {
   "display_name": "Python 3",
   "language": "python",
   "name": "python3"
  },
  "language_info": {
   "codemirror_mode": {
    "name": "ipython",
    "version": 3
   },
   "file_extension": ".py",
   "mimetype": "text/x-python",
   "name": "python",
   "nbconvert_exporter": "python",
   "pygments_lexer": "ipython3",
   "version": "3.7.4"
  }
 },
 "nbformat": 4,
 "nbformat_minor": 2
}
