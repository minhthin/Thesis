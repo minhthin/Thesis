{
 "cells": [
  {
   "cell_type": "markdown",
   "metadata": {},
   "source": [
    "# Quantum Fisher Information Example"
   ]
  },
  {
   "cell_type": "markdown",
   "metadata": {},
   "source": [
    "# Import Modules"
   ]
  },
  {
   "cell_type": "code",
   "execution_count": 21,
   "metadata": {},
   "outputs": [],
   "source": [
    "import numpy as np\n",
    "from qutip import *\n",
    "from hyperopt import tpe, Trials, fmin, hp\n",
    "import matplotlib.pyplot as plt"
   ]
  },
  {
   "cell_type": "markdown",
   "metadata": {},
   "source": [
    "# Cavity QED Model - Functions"
   ]
  },
  {
   "cell_type": "code",
   "execution_count": 2,
   "metadata": {},
   "outputs": [],
   "source": [
    "class model(object):\n",
    "    \"\"\"Quantum Rabi model with two-photon parametric driving.\"\"\"\n",
    "\n",
    "    def __init__(self, na: int, nc: int, wa: float, wc: float, g: float, use_rwa: bool) -> None:\n",
    "\n",
    "        self.na = na                              # number qubits\n",
    "        self.nc = nc                              # number cavity Fock states\n",
    "        self.wa = wa                              # qubit frequency\n",
    "        self.wc = wc                              # cavity mode frequency\n",
    "        self.g = g                                # qubit-cavity interaction strength\n",
    "        self.use_rwa = use_rwa                    # use rotating wave approximation\n",
    "\n",
    "        self.si = qeye(2)                         # qubit identity operator\n",
    "        self.ai = qeye(self.nc)                   # cavity mode identity operator\n",
    "\n",
    "        self.op_list: list = []                   # operator list for constructing composite hamiltonian\n",
    "        self.h: qutip.qobj.Qobj = 0               # composite hamiltonian\n",
    "        self.a: qutip.qobj.Qobj = 0               # cavity, annihilation operator\n",
    "        self.sms: list = []                       # qubits, lowering operators\n",
    "        self.gen: qutip.qobj.Qobj = 0             # generator\n",
    "        self.c_ops: list = []                     # collapse operators\n",
    "\n",
    "    def qeye_op_list(self) -> None:\n",
    "        \"\"\"identity operator list of particles.\"\"\"\n",
    "\n",
    "        self.op_list = [self.si for _ in range(self.na)]\n",
    "        self.op_list.extend([self.ai])\n",
    "\n",
    "    def composite(self) -> None:\n",
    "        \"\"\"composite hamiltonian.\"\"\"\n",
    "\n",
    "        self.qeye_op_list()\n",
    "        self.op_list[-1] = destroy(self.nc)\n",
    "        self.a = tensor(self.op_list)\n",
    "        self.h += self.wc * self.a.dag() * self.a\n",
    "\n",
    "        for i in range(self.na):\n",
    "\n",
    "            self.qeye_op_list()\n",
    "            self.op_list[i] = destroy(2)\n",
    "            sm = tensor(self.op_list)\n",
    "            self.sms.append(sm)\n",
    "\n",
    "            if self.use_rwa:\n",
    "                self.h += self.wa * sm.dag() * sm + self.g * (self.a.dag() * sm + self.a * sm.dag())\n",
    "            else:\n",
    "                self.h += self.wa * sm.dag() * sm + self.g * (self.a.dag() + self.a) * (sm + sm.dag())\n",
    "                \n",
    "    def add_2photon_drive(self, r_max: float, tau: float) -> None:\n",
    "        \"\"\"add two-photon parametric drive.\n",
    "        \n",
    "        inputs\n",
    "        r_max: max parametric gain\n",
    "        tau: effective protocol speed\"\"\"\n",
    "        \n",
    "        lambda_ = '{0} * np.tanh( 2 * {1} * np.tanh( t / (2 * {2}) ) ) / 2'.format(self.wc, r_max, tau)\n",
    "        self.h = [self.h, [-(self.a.dag() ** 2 + self.a ** 2), lambda_]] \n",
    "\n",
    "    def generator(self, bloch: np.ndarray) -> None:\n",
    "        \"\"\"generator for qfi.\n",
    "\n",
    "        inputs\n",
    "        bloch: qubit bloch vectors\"\"\"\n",
    "\n",
    "        # reinitialize generator\n",
    "        self.gen: qutip.qobj.Qobj = 0\n",
    "\n",
    "        for i in range(self.na):\n",
    "            self.qeye_op_list()\n",
    "            self.op_list[i] = 0.5 * (bloch[i,0] * sigmax() + bloch[i,1] * sigmay() + bloch[i,2] * sigmaz())\n",
    "            self.gen += tensor(self.op_list)\n",
    "\n",
    "    def collapse_ops(self, qubit_diss: float, cavity_diss: float, n_cavity: float) -> None:\n",
    "        \"\"\"list of collpase operators.\n",
    "\n",
    "        inputs\n",
    "        qubit_diss: qubit dissipation rate\n",
    "        cavity_diss: cavity relaxation rate\n",
    "        n_cavity: average excitation thermal cavity\"\"\"\n",
    "\n",
    "        # qubit dissipation\n",
    "        rate = qubit_diss\n",
    "        if rate > 0.0:\n",
    "            for sm in self.sms:\n",
    "                self.c_ops.append(np.sqrt(rate) * sm)\n",
    "\n",
    "        # cavity relaxation\n",
    "        rate = cavity_diss * (1 + n_cavity)\n",
    "        if rate > 0.0:\n",
    "            self.c_ops.append(np.sqrt(rate) * self.a)\n",
    "\n",
    "        # cavity excitation\n",
    "        rate = cavity_diss * n_cavity\n",
    "        if rate > 0.0:\n",
    "            self.c_ops.append(np.sqrt(rate) * self.a.dag())"
   ]
  },
  {
   "cell_type": "code",
   "execution_count": 3,
   "metadata": {},
   "outputs": [],
   "source": [
    "def initiate_model(model_params: dict, drive_params: dict, collapse_params: dict) -> object:\n",
    "    \"\"\"initate model including 2 photon driving and collapse operators.\n",
    "    \n",
    "    model_params: model parameters\n",
    "    drive_params: parametric driving parameters\n",
    "    collapse params: collapse parameters\"\"\"\n",
    "    \n",
    "    model_ = model(**model_params)\n",
    "    model_.composite()\n",
    "    model_.add_2photon_drive(**drive_params)\n",
    "    model_.collapse_ops(**collapse_params)\n",
    "    \n",
    "    return model_"
   ]
  },
  {
   "cell_type": "markdown",
   "metadata": {},
   "source": [
    "# Quantum Fisher Information and Optimization - Functions"
   ]
  },
  {
   "cell_type": "code",
   "execution_count": 19,
   "metadata": {},
   "outputs": [],
   "source": [
    "class qfi(object):\n",
    "    \"\"\"quantum fisher information.\"\"\"\n",
    "\n",
    "    def __init__(self, state: qutip.qobj.Qobj, gen: qutip.qobj.Qobj) -> None:\n",
    "\n",
    "        self.state = state   # state\n",
    "        self.gen = gen       # generator\n",
    "\n",
    "    def pure(self) -> float:\n",
    "        \"\"\"qfi pure state.\n",
    "\n",
    "        outputs\n",
    "        4fq: qfi\"\"\"\n",
    "\n",
    "        # compute qfi\n",
    "        fq = variance(self.gen, self.state)\n",
    "\n",
    "        return 4*np.real(fq)\n",
    "\n",
    "    def mixed(self) -> float:\n",
    "        \"\"\"qfi mixed state.\n",
    "\n",
    "        outputs\n",
    "        4fq: qfi\"\"\"\n",
    "\n",
    "        # eigenvalues, eigenstates of density matrix\n",
    "        evals, evecs = self.state.eigenstates()\n",
    "\n",
    "        # initialize qfi\n",
    "        fq: float = 0\n",
    "\n",
    "        # compute qfi\n",
    "        for i in np.arange(evals.shape[0]):\n",
    "            for j in np.arange(i):\n",
    "                if evals[i] + evals[j] > 0:\n",
    "                    fq += ((evals[i] - evals[j])**2/(evals[i] + evals[j]))*np.abs(self.gen.matrix_element(evecs[i], evecs[j]))**2\n",
    "\n",
    "        return 4*np.real(fq)"
   ]
  },
  {
   "cell_type": "code",
   "execution_count": 4,
   "metadata": {},
   "outputs": [],
   "source": [
    "class objectives(object):\n",
    "    \"\"\"objectives to be optimized.\"\"\"\n",
    "\n",
    "    def __init__(self, model: object, state: qutip.qobj.Qobj, state_type: str) -> None:\n",
    "\n",
    "        self.model = model\n",
    "        self.state = state\n",
    "        self.state_type = state_type\n",
    "\n",
    "    def optimize_qfi(self, params: dict) -> float:\n",
    "        \"\"\"optimize qfi over bloch vectors.\"\"\"\n",
    "\n",
    "        # reformat bloch vectors to cartesian\n",
    "        bloch_xyz = dict_to_arrays_bloch(params)\n",
    "\n",
    "        # update generator\n",
    "        self.model.generator(bloch_xyz)\n",
    "\n",
    "        # qfi\n",
    "        qfi_ = qfi(self.state, self.model.gen)\n",
    "\n",
    "        if self.state_type == 'pure':\n",
    "            cost = (qfi_.pure() + 1e-10)**(-1)\n",
    "\n",
    "        if self.state_type == 'mixed':\n",
    "            cost = (qfi_.mixed() + 1e-10)**(-1)\n",
    "\n",
    "        # cost\n",
    "        return cost"
   ]
  },
  {
   "cell_type": "code",
   "execution_count": 5,
   "metadata": {},
   "outputs": [],
   "source": [
    "def optimize(objective: callable, params: dict, max_evals: int) -> dict:\n",
    "    \"\"\"bayesian optimization.\n",
    "    \n",
    "    objective: objective function\n",
    "    params: parameters to be optimized\n",
    "    max_evals: max iterations\"\"\"\n",
    "\n",
    "    # create algorithm\n",
    "    tpe_algo = tpe.suggest\n",
    "\n",
    "    # create trials object, tracks results\n",
    "    tpe_trials = Trials()\n",
    "\n",
    "    # run with tpe algorithm\n",
    "    tpe_best = fmin(fn=objective, space=params,\n",
    "                    algo=tpe_algo, trials=tpe_trials,\n",
    "                    max_evals=max_evals)\n",
    "\n",
    "    return tpe_best"
   ]
  },
  {
   "cell_type": "code",
   "execution_count": 6,
   "metadata": {},
   "outputs": [],
   "source": [
    "def bloch_params(na: int) -> dict:\n",
    "    \"\"\"bloch vectors domain for optimization.\n",
    "\n",
    "    inputs\n",
    "    na: number of atoms\n",
    "\n",
    "    outputs\n",
    "    params: dict of bloch vectors domain\"\"\"\n",
    "\n",
    "    # initialize parameters domain\n",
    "    params = {}\n",
    "\n",
    "    # build parameters domain\n",
    "    for i in range(na):\n",
    "\n",
    "        params['bloch theta {}'.format(i)] = hp.uniform('bloch theta {}'.format(i), 0, 2*np.pi)\n",
    "        params['bloch phi {}'.format(i)] = hp.uniform('bloch phi {}'.format(i), 0, np.pi)\n",
    "\n",
    "    return params"
   ]
  },
  {
   "cell_type": "code",
   "execution_count": 7,
   "metadata": {},
   "outputs": [],
   "source": [
    "def dict_to_arrays_bloch(params: dict) -> tuple:\n",
    "    \"\"\"convert dict to arrays.\n",
    "\n",
    "    inputs\n",
    "    params: hyperopt parameters\"\"\"\n",
    "\n",
    "    # make array\n",
    "    bloch_sph = np.asarray([v for k, v in params.items()])\n",
    "\n",
    "    # split by angles\n",
    "    bloch_sph = np.split(bloch_sph, 2)\n",
    "\n",
    "    # convert spherical to cartesian\n",
    "    [bloch_xyz] = spherical_to_cartesian([np.asarray(bloch_sph).T])\n",
    "\n",
    "    # molecule info in rows\n",
    "    return np.asarray(bloch_xyz)"
   ]
  },
  {
   "cell_type": "code",
   "execution_count": 15,
   "metadata": {},
   "outputs": [],
   "source": [
    "def spherical_to_cartesian(sphs: list) -> np.ndarray:\n",
    "    \"\"\"convert spherical to cartesian coordinates.\"\"\"\n",
    "\n",
    "    c_lists = []\n",
    "\n",
    "    for x in sphs:\n",
    "\n",
    "        c_list = [[np.sin(phi)*np.cos(theta), np.sin(phi)*np.sin(theta), np.cos(phi)] for phi, theta in x]\n",
    "        c_lists.append(c_list)\n",
    "\n",
    "    return c_lists\n"
   ]
  },
  {
   "cell_type": "markdown",
   "metadata": {},
   "source": [
    "# Example - Mixed State Evolution"
   ]
  },
  {
   "cell_type": "code",
   "execution_count": 50,
   "metadata": {},
   "outputs": [],
   "source": [
    "# parameters\n",
    "model_params = {'na': 2, 'nc': 10, 'wa': 2 * np.pi, 'wc': 2 * np.pi, 'g': 2, 'use_rwa': False}\n",
    "collapse_params = {'qubit_diss': 0.005, 'cavity_diss': 0.05, 'n_cavity': 0}\n",
    "dyn_params = {'t_final': 50, 'num': 10000}\n",
    "psi0 = tensor(basis(2,1), basis(2,0), basis(model_params['nc'], 0)).unit()\n",
    "params = bloch_params(model_params['na'])\n",
    "max_evals = 1000\n",
    "tlist = np.linspace(0, dyn_params['t_final'], dyn_params['num'])\n",
    "num_dpts = 20\n",
    "idx = np.linspace(0, tlist.shape[0] - 1, num_dpts, dtype='int')\n",
    "qfi_opt = np.zeros(num_dpts)"
   ]
  },
  {
   "cell_type": "code",
   "execution_count": 51,
   "metadata": {},
   "outputs": [],
   "source": [
    "# construct model, run dynamics\n",
    "model_ = model(**model_params)\n",
    "model_.composite()\n",
    "model_.collapse_ops(**collapse_params)\n",
    "outputs_states = mesolve(model_.h, psi0, tlist, model_.c_ops, [])\n",
    "outputs_e_ops = mesolve(model_.h, psi0, tlist, model_.c_ops, [model_.sms[0].dag()*model_.sms[0], model_.sms[1].dag()*model_.sms[1], model_.a.dag()*model_.a])"
   ]
  },
  {
   "cell_type": "code",
   "execution_count": 52,
   "metadata": {},
   "outputs": [
    {
     "name": "stdout",
     "output_type": "stream",
     "text": [
      "100%|██████████| 1000/1000 [00:21<00:00, 38.07trial/s, best loss: 0.5000135287174207]\n",
      "100%|██████████| 1000/1000 [00:28<00:00, 29.39trial/s, best loss: 0.33696061632759966]\n",
      "100%|██████████| 1000/1000 [00:29<00:00, 33.90trial/s, best loss: 0.4225852193769653]\n",
      "100%|██████████| 1000/1000 [00:28<00:00, 34.82trial/s, best loss: 0.36864332275967915]\n",
      "100%|██████████| 1000/1000 [00:29<00:00, 28.25trial/s, best loss: 0.44051197923366553]\n",
      "100%|██████████| 1000/1000 [00:30<00:00, 27.85trial/s, best loss: 0.3343463779617255]\n",
      "100%|██████████| 1000/1000 [00:30<00:00, 33.17trial/s, best loss: 0.4708373020410876]\n",
      "100%|██████████| 1000/1000 [00:29<00:00, 33.69trial/s, best loss: 0.4371333597153969]\n",
      "100%|██████████| 1000/1000 [00:29<00:00, 34.36trial/s, best loss: 0.5695817270042042]\n",
      "100%|██████████| 1000/1000 [00:29<00:00, 33.37trial/s, best loss: 0.5240285953987287]\n",
      "100%|██████████| 1000/1000 [00:28<00:00, 34.73trial/s, best loss: 0.7139391955805093]\n",
      "100%|██████████| 1000/1000 [00:28<00:00, 34.73trial/s, best loss: 0.652110502418161]\n",
      "100%|██████████| 1000/1000 [00:28<00:00, 35.22trial/s, best loss: 0.6682159902425809]\n",
      "100%|██████████| 1000/1000 [00:28<00:00, 34.85trial/s, best loss: 0.7322102446351548]\n",
      "100%|██████████| 1000/1000 [00:29<00:00, 33.64trial/s, best loss: 0.5954123227248788]\n",
      "100%|██████████| 1000/1000 [00:29<00:00, 28.43trial/s, best loss: 0.5748119172251372]\n",
      "100%|██████████| 1000/1000 [00:29<00:00, 34.30trial/s, best loss: 0.5607898259928706]\n",
      "100%|██████████| 1000/1000 [00:29<00:00, 33.50trial/s, best loss: 0.6160674040036953]\n",
      "100%|██████████| 1000/1000 [00:29<00:00, 34.03trial/s, best loss: 0.6233703783242406]\n",
      "100%|██████████| 1000/1000 [00:29<00:00, 29.29trial/s, best loss: 0.7023725632148846]\n"
     ]
    },
    {
     "data": {
      "text/plain": [
       "<matplotlib.legend.Legend at 0x7fb235cfaf28>"
      ]
     },
     "execution_count": 52,
     "metadata": {},
     "output_type": "execute_result"
    },
    {
     "data": {
      "image/png": "[encoded data removed]",
      "text/plain": [
       "<Figure size 432x288 with 1 Axes>"
      ]
     },
     "metadata": {
      "needs_background": "light"
     },
     "output_type": "display_data"
    }
   ],
   "source": [
    "# compute Fisher information for select states\n",
    "for i, state in enumerate([outputs_states.states[id_] for id_ in idx]):\n",
    "    \n",
    "    o_ = objectives(model_, state, 'mixed')\n",
    "    tpe_best_ = optimize(o_.optimize_qfi, params, max_evals)\n",
    "    qfi_opt[i] = o_.optimize_qfi(tpe_best_)**(-1)\n",
    "\n",
    "plt.plot(tlist, outputs_e_ops.expect[0], label='atom 1')\n",
    "plt.plot(tlist, outputs_e_ops.expect[1], label='atom 2')\n",
    "plt.plot(tlist, outputs_e_ops.expect[2], label='cavity')\n",
    "plt.plot(tlist[idx], qfi_opt, marker='o', lw=0, label='optimized')\n",
    "plt.xlabel(r'$t$, time')\n",
    "plt.ylabel(r'$F_{Q}$, quantum Fisher information')\n",
    "plt.legend(frameon=False)"
   ]
  },
  {
   "cell_type": "code",
   "execution_count": null,
   "metadata": {},
   "outputs": [],
   "source": []
  }
 ],
 "metadata": {
  "kernelspec": {
   "display_name": "Python 3",
   "language": "python",
   "name": "python3"
  },
  "language_info": {
   "codemirror_mode": {
    "name": "ipython",
    "version": 3
   },
   "file_extension": ".py",
   "mimetype": "text/x-python",
   "name": "python",
   "nbconvert_exporter": "python",
   "pygments_lexer": "ipython3",
   "version": "3.7.4"
  }
 },
 "nbformat": 4,
 "nbformat_minor": 2
}
