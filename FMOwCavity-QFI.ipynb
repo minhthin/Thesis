{
 "cells": [
  {
   "cell_type": "code",
   "execution_count": 6,
   "metadata": {},
   "outputs": [],
   "source": [
    "# import qutip packages\n",
    "from qutip import *\n",
    "import krotov\n",
    "import numpy as np\n",
    "import scipy as sp\n",
    "import matplotlib.pyplot as plt\n",
    "import numpy.random as rnd\n",
    "import matplotlib.pyplot as plt\n",
    "from matplotlib import colors\n",
    "import numpy as np\n",
    "import scipy\n",
    "from hyperopt import tpe, Trials, fmin, hp\n",
    "import matplotlib.pyplot as plt"
   ]
  },
  {
   "cell_type": "markdown",
   "metadata": {},
   "source": [
    "$\\newcommand{tr}[0]{\\operatorname{tr}}\n",
    "\\newcommand{diag}[0]{\\operatorname{diag}}\n",
    "\\newcommand{abs}[0]{\\operatorname{abs}}\n",
    "\\newcommand{pop}[0]{\\operatorname{pop}}\n",
    "\\newcommand{aux}[0]{\\text{aux}}\n",
    "\\newcommand{opt}[0]{\\text{opt}}\n",
    "\\newcommand{tgt}[0]{\\text{tgt}}\n",
    "\\newcommand{init}[0]{\\text{init}}\n",
    "\\newcommand{lab}[0]{\\text{lab}}\n",
    "\\newcommand{rwa}[0]{\\text{rwa}}\n",
    "\\newcommand{bra}[1]{\\langle#1\\vert}\n",
    "\\newcommand{ket}[1]{\\vert#1\\rangle}\n",
    "\\newcommand{Bra}[1]{\\left\\langle#1\\right\\vert}\n",
    "\\newcommand{Ket}[1]{\\left\\vert#1\\right\\rangle}\n",
    "\\newcommand{Braket}[2]{\\left\\langle #1\\vphantom{#2} \\mid #2\\vphantom{#1}\\right\\rangle}\n",
    "\\newcommand{op}[1]{\\hat{#1}}\n",
    "\\newcommand{Op}[1]{\\hat{#1}}\n",
    "\\newcommand{dd}[0]{\\,\\text{d}}\n",
    "\\newcommand{Liouville}[0]{\\mathcal{L}}\n",
    "\\newcommand{DynMap}[0]{\\mathcal{E}}\n",
    "\\newcommand{identity}[0]{\\mathbf{1}}\n",
    "\\newcommand{Norm}[1]{\\lVert#1\\rVert}\n",
    "\\newcommand{Abs}[1]{\\left\\vert#1\\right\\vert}\n",
    "\\newcommand{avg}[1]{\\langle#1\\rangle}\n",
    "\\newcommand{Avg}[1]{\\left\\langle#1\\right\\rangle}\n",
    "\\newcommand{AbsSq}[1]{\\left\\vert#1\\right\\vert^2}\n",
    "\\newcommand{Re}[0]{\\operatorname{Re}}\n",
    "\\newcommand{Im}[0]{\\operatorname{Im}}$"
   ]
  },
  {
   "cell_type": "markdown",
   "metadata": {},
   "source": [
    "# The Model (FMO with N Sites/Qubits)"
   ]
  },
  {
   "cell_type": "markdown",
   "metadata": {},
   "source": [
    "# Define the Hamiltonian and Liouvillian"
   ]
  },
  {
   "cell_type": "markdown",
   "metadata": {},
   "source": [
    "We model our network model based on previous theoretical descriptions of PPCs as a network composed of distinct sites, one of which receives a single excitation (which we choose to be $\\ket{1}$ for the time being) and one site to be connected to the Reaction Center/Sink (which we choose to be $\\ket{N}$.  The network of $N$ sites is described by the Hamiltonian with hopping parameters fixed by geometry and dipolar structure of site interactions:\n",
    "\n",
    "$H = \\Sigma_{j = 1}^N \\hbar \\omega_j \\sigma_j^+ \\sigma_j^- + \\Sigma_{j \\ne l} \\hbar \\nu_{j,l} (\\sigma_j^- \\sigma_l^+ + \\sigma_j^+ \\sigma_l^-)$\n",
    "\n",
    "where we define the raising and lowering operators to be $\\sigma_j^+ = \\ket{j}\\bra{0}$ and $\\sigma_j^- = \\ket{0}\\bra{j}$ for site $j$, and state $j$ denoting one excitation in the site $j$ and $\\ket{0}$ is the zero excitation states.  $\\hbar \\omega_j$ are the local site energies and $\\nu_{j, l}$ are the coherent tunneling amplitudes between sites $j$ and $l$ (we do not consider microscoping coupling).  Our Hilbert space is actually defined as $N + 2$ states because we define an additional sink state at $\\ket{N+1}$."
   ]
  },
  {
   "cell_type": "markdown",
   "metadata": {},
   "source": [
    "# Cavity Addition"
   ]
  },
  {
   "cell_type": "markdown",
   "metadata": {},
   "source": [
    "The system is confined inside an optical cavity in the strong coupling regime with resonance frequency $\\omega_c$ where the Jaynes-Cummings model can be adopted. Energy is injected into the system with an external laser pump with frequency $\\omega_l$.  We will consider the pump field to be a continuous wave.  We will consider the case where the pump field is turned on at a certain time, which allows us to explore both the stationary response in the CW field as well as transient excitation dynamics.  We consider collinear polarization of the alser field and cavity mode because the extension of the model to pulsed excitation and cross field polarization is similar.  \n",
    "\n",
    "THe LHC excitation dynamics is characterized by monitoring the mean photon number and second order coherence function of the light leaking out of the cavity.  \n",
    "The cavity Hamiltonian is given by (where $a^+, a$ denote the cavity photon creation, annhilation operators.\n",
    "\n",
    "$H = \\omega_c a^+ a$\n",
    "\n",
    "The coherent interaction between the cavity mode and the system is given by (where $g$ is the coupling constant and $\\mu_i$ is the projection of the transition dipole moment of a site along the polarization of the cavity mode)\n",
    "\n",
    "$H_c = \\Sigma_{i = 1}^N g \\mu_i (\\sigma_i^+ a + \\sigma_i^- a^+)$\n",
    "\n",
    "Additionally, we couple the Hamiltonian with an external laser field:\n",
    "$H_l(t) = -\\Sigma_{i = 1}^N \\mu_i E(\\omega, t)\\sigma_i^+ + h.c.$"
   ]
  },
  {
   "cell_type": "markdown",
   "metadata": {},
   "source": [
    "We assume that the system is susceptible simultaneously to two distinct types of noise: a radiative decay process that transfers the excitation energy in site j to the environment with a rate $\\Gamma_j$ and a pure dephasing process with rate $\\gamma_j$ that destroyes phase coherence for localized excitations.  We model the system's density matrix by a Markovian Lindbladian Master Equation:\n",
    "\n",
    "$\\dot{\\rho} = -i[H, \\rho] + \\mathcal{L}_{rad}(\\rho)+ \\mathcal{L}_{deph}(\\rho)$\n",
    "\n",
    "where we define the local radiative and dephasing terms by the Lindblad superoperators $\\mathcal{L}_{rad}$ and $\\mathcal{L}_{deph}$:\n",
    "\n",
    "$\\mathcal{L}_{deph} = \\Sigma_{j = 1}^N\\gamma_j[-\\{\\sigma_j^+ \\sigma_j^-, \\rho\\} + 2\\sigma_j^+ \\sigma_j^- \\rho \\sigma_j^+ \\sigma_j^-]$\n",
    "\n",
    "$\\mathcal{L}_{diss}(\\rho) = \\Sigma_{j = 1}^N\\Gamma_j[-\\{\\sigma_j^+ \\sigma_j^-, \\rho\\} + 2\\sigma_j^- \\rho \\sigma_j^+])$\n",
    "\n",
    "where $\\{A, B\\}$ describes an anticommutator relation."
   ]
  },
  {
   "cell_type": "markdown",
   "metadata": {},
   "source": [
    "We include an additional relaxation through the interaction with the cavity that has a damping channel described by the Lindbladian:\n",
    "\n",
    "$\\mathcal{L}_{C}(\\rho) = \\Gamma_C/2[-\\{a^+ a, \\rho\\} + 2a \\rho a^+])$"
   ]
  },
  {
   "cell_type": "markdown",
   "metadata": {},
   "source": [
    "We measure the total excitation transfer by the population transferred to the Reaction Center, which we model as the sink node as $N + 1$ that is populated by an irreversible decay process with rate $\\Gamma_{N+ 1}$ from a site $k$ (which we choose to be $\\ket{N}$ and described by a Lindblad operator:\n",
    "\n",
    " $\\mathcal{L}_{sink}(\\rho) = \\Gamma_c[2 \\sigma_c^+ \\sigma_k^- \\rho \\sigma_k^+ \\sigma_c^- - \\{\\sigma_k^+ \\sigma_c^- \\sigma_c^+, \\rho \\}]))$"
   ]
  },
  {
   "cell_type": "markdown",
   "metadata": {},
   "source": [
    "Our objective is to measure the excitation transfer by measuring the population to the sink.  The sink population is modeled by $p_{sink}(t) = 2\\Gamma_c \\int_0^t\\rho_{kk}(t') dt'$."
   ]
  },
  {
   "cell_type": "markdown",
   "metadata": {},
   "source": [
    "# Problem Parameters"
   ]
  },
  {
   "cell_type": "markdown",
   "metadata": {},
   "source": [
    "Here we use units where ℏ=1:"
   ]
  },
  {
   "cell_type": "code",
   "execution_count": 18,
   "metadata": {},
   "outputs": [],
   "source": [
    "# define units for the problem\n",
    "hbar = 1;"
   ]
  },
  {
   "cell_type": "code",
   "execution_count": 19,
   "metadata": {},
   "outputs": [],
   "source": [
    "# define FMO system for initial state excited at state 1\n",
    "#input:\n",
    "\n",
    "# N = number of sites, site N + 1 being the sink, and a site 0 being the zero exciton state, \n",
    "# thus giving a Hilbert space of N + 2\n",
    "# M = number of cavity fock states \n",
    "# wc = cavity frequency \n",
    "# g = coupling constant \n",
    "# use_rwa = use the rwa approximation (true/false)\n",
    "# mu = projection of transition dipole moment of single site along polarization of cavity mode\n",
    "# omega = local site energies, given in an array of length N\n",
    "# nu = coherent tunneling amplitude between site i and j, where i,j are from 1 to N, given as an NxN symmetric matrix\n",
    "# Gamma = rate or radiative decay process that transfers excitation in site j to environment, given as array of length N\n",
    "# gamma = rate of pure dephasing that destroys phase coherence for localized excitations, given as array of length N\n",
    "# Gamma_c = rate of irreversible decay from site k to sink, given as double \n",
    "# tlist = evolution time\n",
    "\n",
    "def FMO_solve(N, M, g, wc, mu, use_rwa, omega, nu, Gamma, gamma, Gamma_c, cavity_Gamma, tlist):\n",
    "    \n",
    "    # describe vacuum state for sites \n",
    "    vac = qutip.basis(N + 2, 0)\n",
    "    # describe vacuum state for cavity photons with M cavity fock states\n",
    "    vac_C = qutip.basis(M, 0)\n",
    "    \n",
    "    # create raising and lowering operators \n",
    "    a = qutip.tensor(destroy(M), qutip.qeye(N + 2))\n",
    "    \n",
    "    # raising and lowering operators for each site\n",
    "    def raise_operator(j):\n",
    "        siteState = qutip.basis(N + 2, j)\n",
    "        return qutip.tensor(qutip.qeye(M), siteState * vac.dag())\n",
    "    \n",
    "    def lower_operator(j):\n",
    "        siteState = qutip.basis(N + 2, j)\n",
    "        return qutip.tensor(qutip.qeye(M), vac*siteState.dag())\n",
    "    \n",
    "    #define the sink state k and generate density matrix for that state k\n",
    "    def target_state(k):\n",
    "        return qutip.ket2dm(raise_operator(k) * (qutip.tensor(vac_C, vac)))\n",
    "    \n",
    "    # build Hamiltonian\n",
    "    H0 = wc * a.dag() * a\n",
    "    \n",
    "    # create Hamiltonian summing \n",
    "    if use_rwa:\n",
    "        for i in range(N):\n",
    "            H = hbar * g * mu * (raise_operator(i + 1) * a + lower_operator(i + 1) * a.dag())\n",
    "            H0 = H0 + H\n",
    "        else:\n",
    "            for i in range(N):\n",
    "                H = hbar * g * mu * (a.dag() + a) * (lower_operator(i + 1) * raise_operator(i + 1))\n",
    "                H0 = H0 + H\n",
    "    \n",
    "    # create Hamiltonian summing over all sites N and site energies vector omega\n",
    "    for i in range(N):\n",
    "        H = hbar * omega[i] / 2 * raise_operator(i + 1) * lower_operator(i + 1)\n",
    "        \n",
    "    # create interaction Hamiltonian summing over all sites N given matrix nu for coherent tunneling amplitudes \n",
    "    for i in range(N):\n",
    "        for j in range(N):\n",
    "            if (i != j):\n",
    "                    H = hbar * nu[i,j] * (lower_operator(j + 1) * raise_operator(i + 1) + raise_operator(j + 1) * lower_operator(i + 1))\n",
    "                    H0 = H0 + H\n",
    "                    \n",
    "    # define initial density matrix for initial state, which we take to be |1>\n",
    "    rho0 = qutip.ket2dm(raise_operator(1) * (qutip.tensor(vac_C, vac)))\n",
    "                    \n",
    "    # define Liouvillian for coupled 2-site system\n",
    "    \n",
    "    # Define collapse operators\n",
    "    c_ops_list = []\n",
    "    # add radiative and dephasing dissipation\n",
    "    for i in range(N):\n",
    "        c_ops_list.append(np.sqrt(2 * Gamma[i]) * lower_operator(i + 1)) # radiative\n",
    "        c_ops_list.append(np.sqrt(2 * gamma[i]) * raise_operator(i + 1) * lower_operator(i + 1)) # dephasing\n",
    "    # add sink Lindblad collapse \n",
    "    k = N\n",
    "    c_ops_list.append(np.sqrt(2 * Gamma_c) * raise_operator(N + 1) * lower_operator(k))\n",
    "    # cavity relaxation \n",
    "    c_ops_list.append(np.sqrt(2 * cavity_Gamma) * a)\n",
    "    \n",
    "    e_ops_list = []\n",
    "    e_ops_list.append(a.dag()*a)\n",
    "    for i in range(N):\n",
    "        e_ops_list.append(target_state(i + 1))\n",
    " \n",
    "    return qutip.mesolve(H = H0, rho0 = rho0, tlist = tlist, c_ops = c_ops_list, e_ops = e_ops_list)"
   ]
  },
  {
   "cell_type": "code",
   "execution_count": 20,
   "metadata": {},
   "outputs": [],
   "source": [
    "n = 7\n",
    "m = 20\n",
    "cavityfreq = 1.0\n",
    "coupling_const =  0.05\n",
    "projection_dipole = 1.0\n",
    "use_rwa = True\n",
    "relax_rate = 0.0\n",
    "site_energy = 1.0\n",
    "tunneling_strength = 0.05\n",
    "rad_rate = 0.0\n",
    "deph_rate = 0.0\n",
    "Gamma_c = 1.0\n",
    "T = 200\n",
    "nt = 201\n",
    "tlist = np.linspace(0, T, nt)\n",
    "dt = tlist[1] - tlist[0]\n",
    "\n",
    "omega0 = np.asarray(tunneling_strength*np.ones(n))\n",
    "site_energy = omega0 * site_energy\n",
    "\n",
    "tunneling_strength = np.asarray(tunneling_strength*np.ones(shape = (n,n)))\n",
    "tunneling_strength[0,n - 1] = 0\n",
    "tunneling_strength[n-1,0] = 0\n",
    "\n",
    "Gamma = np.asarray(np.ones(n))\n",
    "rad_rate = np.asarray(Gamma) * rad_rate\n",
    "\n",
    "gamma = np.asarray(np.ones(n))\n",
    "deph_rate = np.asarray(gamma) * deph_rate\n",
    "\n",
    "Gamma_c = 1.0\n",
    "    \n",
    "\n",
    "output = FMO_solve(n, m, coupling_const, cavityfreq, projection_dipole, use_rwa, site_energy,tunneling_strength,  rad_rate, deph_rate, Gamma_c, relax_rate, tlist)\n"
   ]
  },
  {
   "cell_type": "code",
   "execution_count": 21,
   "metadata": {
    "scrolled": false
   },
   "outputs": [
    {
     "data": {
      "text/plain": [
       "Text(0.5, 1.0, 'FMO Energy Transfer in Cavity')"
      ]
     },
     "execution_count": 21,
     "metadata": {},
     "output_type": "execute_result"
    },
    {
     "data": {
      "image/png": "[encoded data removed]",
      "text/plain": [
       "<Figure size 720x432 with 1 Axes>"
      ]
     },
     "metadata": {
      "needs_background": "light"
     },
     "output_type": "display_data"
    }
   ],
   "source": [
    "n_c = output.expect[0]\n",
    "fig, axes = plt.subplots(1, 1, figsize=(10,6))\n",
    "\n",
    "for i in range(n):\n",
    "    axes.plot(tlist, output.expect[i + 1], label ='$p_{}$'.format(i + 1))\n",
    "    \n",
    "axes.plot(output.times[0:len(output.times) - 1], Gamma_c * 2 * scipy.integrate.cumtrapz(y = np.asarray(output.expect[n]), x = output.times, dx = dt), 'r--')\n",
    "\n",
    "axes.plot(tlist, n_c, label=\"Cavity\")\n",
    "axes.legend(loc='upper right')\n",
    "axes.set_xlabel('Time')\n",
    "axes.set_ylabel('Occupation probability')\n",
    "axes.set_title('FMO Energy Transfer in Cavity')"
   ]
  },
  {
   "cell_type": "markdown",
   "metadata": {},
   "source": [
    "# Quantum Fisher Information"
   ]
  },
  {
   "cell_type": "code",
   "execution_count": 22,
   "metadata": {},
   "outputs": [],
   "source": [
    "class qfi(object):\n",
    "    \"\"\"quantum fisher information.\"\"\"\n",
    "\n",
    "    def __init__(self, state: qutip.qobj.Qobj, gen: qutip.qobj.Qobj) -> None:\n",
    "\n",
    "        self.state = state   # state\n",
    "        self.gen = gen       # generator\n",
    "\n",
    "    def pure(self) -> float:\n",
    "        \"\"\"qfi pure state.\n",
    "\n",
    "        outputs\n",
    "        4fq: qfi\"\"\"\n",
    "\n",
    "        # compute qfi\n",
    "        fq = variance(self.gen, self.state)\n",
    "\n",
    "        return 4*np.real(fq)\n",
    "\n",
    "    def mixed(self) -> float:\n",
    "        \"\"\"qfi mixed state.\n",
    "\n",
    "        outputs\n",
    "        4fq: qfi\"\"\"\n",
    "\n",
    "        # eigenvalues, eigenstates of density matrix\n",
    "        evals, evecs = self.state.eigenstates()\n",
    "\n",
    "        # initialize qfi\n",
    "        fq: float = 0\n",
    "\n",
    "        # compute qfi\n",
    "        for i in np.arange(evals.shape[0]):\n",
    "            for j in np.arange(i):\n",
    "                if evals[i] + evals[j] > 0:\n",
    "                    fq += ((evals[i] - evals[j])**2/(evals[i] + evals[j]))*np.abs(self.gen.matrix_element(evecs[i], evecs[j]))**2\n",
    "\n",
    "        return 4*np.real(fq)"
   ]
  },
  {
   "cell_type": "code",
   "execution_count": 23,
   "metadata": {},
   "outputs": [],
   "source": [
    "class objectives(object):\n",
    "    \"\"\"objectives to be optimized.\"\"\"\n",
    "\n",
    "    def __init__(self, model: object, state: qutip.qobj.Qobj, state_type: str) -> None:\n",
    "\n",
    "        self.model = model\n",
    "        self.state = state\n",
    "        self.state_type = state_type\n",
    "\n",
    "    def optimize_qfi(self, params: dict) -> float:\n",
    "        \"\"\"optimize qfi over bloch vectors.\"\"\"\n",
    "\n",
    "        # reformat bloch vectors to cartesian\n",
    "        bloch_xyz = dict_to_arrays_bloch(params)\n",
    "\n",
    "        # update generator\n",
    "        self.model.generator(bloch_xyz)\n",
    "\n",
    "        # qfi\n",
    "        qfi_ = qfi(self.state, self.model.gen)\n",
    "\n",
    "        if self.state_type == 'pure':\n",
    "            cost = (qfi_.pure() + 1e-10)**(-1)\n",
    "\n",
    "        if self.state_type == 'mixed':\n",
    "            cost = (qfi_.mixed() + 1e-10)**(-1)\n",
    "\n",
    "        # cost\n",
    "        return cost"
   ]
  },
  {
   "cell_type": "code",
   "execution_count": 24,
   "metadata": {},
   "outputs": [],
   "source": [
    "def optimize(objective: callable, params: dict, max_evals: int) -> dict:\n",
    "    \"\"\"bayesian optimization.\n",
    "    \n",
    "    objective: objective function\n",
    "    params: parameters to be optimized\n",
    "    max_evals: max iterations\"\"\"\n",
    "\n",
    "    # create algorithm\n",
    "    tpe_algo = tpe.suggest\n",
    "\n",
    "    # create trials object, tracks results\n",
    "    tpe_trials = Trials()\n",
    "\n",
    "    # run with tpe algorithm\n",
    "    tpe_best = fmin(fn=objective, space=params,\n",
    "                    algo=tpe_algo, trials=tpe_trials,\n",
    "                    max_evals=max_evals)\n",
    "\n",
    "    return tpe_best"
   ]
  },
  {
   "cell_type": "code",
   "execution_count": 26,
   "metadata": {},
   "outputs": [],
   "source": [
    "def bloch_params(na: int) -> dict:\n",
    "    \"\"\"bloch vectors domain for optimization.\n",
    "\n",
    "    inputs\n",
    "    na: number of atoms\n",
    "\n",
    "    outputs\n",
    "    params: dict of bloch vectors domain\"\"\"\n",
    "\n",
    "    # initialize parameters domain\n",
    "    params = {}\n",
    "\n",
    "    # build parameters domain\n",
    "    for i in range(na):\n",
    "\n",
    "        params['bloch theta {}'.format(i)] = hp.uniform('bloch theta {}'.format(i), 0, 2*np.pi)\n",
    "        params['bloch phi {}'.format(i)] = hp.uniform('bloch phi {}'.format(i), 0, np.pi)\n",
    "\n",
    "    return params"
   ]
  },
  {
   "cell_type": "code",
   "execution_count": 27,
   "metadata": {},
   "outputs": [],
   "source": [
    "def dict_to_arrays_bloch(params: dict) -> tuple:\n",
    "    \"\"\"convert dict to arrays.\n",
    "\n",
    "    inputs\n",
    "    params: hyperopt parameters\"\"\"\n",
    "\n",
    "    # make array\n",
    "    bloch_sph = np.asarray([v for k, v in params.items()])\n",
    "\n",
    "    # split by angles\n",
    "    bloch_sph = np.split(bloch_sph, 2)\n",
    "\n",
    "    # convert spherical to cartesian\n",
    "    [bloch_xyz] = spherical_to_cartesian([np.asarray(bloch_sph).T])\n",
    "\n",
    "    # molecule info in rows\n",
    "    return np.asarray(bloch_xyz)"
   ]
  },
  {
   "cell_type": "code",
   "execution_count": 28,
   "metadata": {},
   "outputs": [],
   "source": [
    "def spherical_to_cartesian(sphs: list) -> np.ndarray:\n",
    "    \"\"\"convert spherical to cartesian coordinates.\"\"\"\n",
    "\n",
    "    c_lists = []\n",
    "\n",
    "    for x in sphs:\n",
    "\n",
    "        c_list = [[np.sin(phi)*np.cos(theta), np.sin(phi)*np.sin(theta), np.cos(phi)] for phi, theta in x]\n",
    "        c_lists.append(c_list)\n",
    "\n",
    "    return c_lists"
   ]
  },
  {
   "cell_type": "markdown",
   "metadata": {},
   "source": [
    "# Create Object Model"
   ]
  },
  {
   "cell_type": "code",
   "execution_count": 93,
   "metadata": {},
   "outputs": [],
   "source": [
    "class model(object):\n",
    "    \"\"\"Quantum Rabi model with two-photon parametric driving.\"\"\"\n",
    "\n",
    "    def __init__(self, na: int, nc: int, wa: float, wc: float, g: float, use_rwa: bool) -> None:\n",
    "\n",
    "        self.na = na                              # number qubits\n",
    "        self.nc = nc                              # number cavity Fock states\n",
    "        self.wa = wa                              # qubit frequency\n",
    "        self.wc = wc                              # cavity mode frequency\n",
    "        self.g = g                                # qubit-cavity interaction strength\n",
    "        self.use_rwa = use_rwa                    # use rotating wave approximation\n",
    "\n",
    "        self.si = qeye(2)                         # qubit identity operator\n",
    "        self.ai = qeye(self.nc)                   # cavity mode identity operator\n",
    "\n",
    "        self.op_list: list = []                   # operator list for constructing composite hamiltonian\n",
    "        self.h: qutip.qobj.Qobj = 0               # composite hamiltonian\n",
    "        self.a: qutip.qobj.Qobj = 0               # cavity, annihilation operator\n",
    "        self.sms: list = []                       # qubits, lowering operators\n",
    "        self.gen: qutip.qobj.Qobj = 0             # generator\n",
    "        self.c_ops: list = []                     # collapse operators\n",
    "\n",
    "    def qeye_op_list(self) -> None:\n",
    "        \"\"\"identity operator list of particles.\"\"\"\n",
    "\n",
    "        self.op_list = [self.si for _ in range(self.na)]\n",
    "        self.op_list.extend([self.ai])\n",
    "\n",
    "    def composite(self) -> None:\n",
    "        \"\"\"composite hamiltonian.\"\"\"\n",
    "\n",
    "        self.qeye_op_list()\n",
    "        self.op_list[-1] = destroy(self.nc)\n",
    "        self.a = tensor(self.op_list)\n",
    "        self.h += self.wc * self.a.dag() * self.a\n",
    "\n",
    "        for i in range(self.na):\n",
    "\n",
    "            self.qeye_op_list()\n",
    "            self.op_list[i] = destroy(2)\n",
    "            sm = tensor(self.op_list)\n",
    "            self.sms.append(sm)\n",
    "\n",
    "            if self.use_rwa:\n",
    "                self.h += self.wa * sm.dag() * sm + self.g * (self.a.dag() * sm + self.a * sm.dag())\n",
    "            else:\n",
    "                self.h += self.wa * sm.dag() * sm + self.g * (self.a.dag() + self.a) * (sm + sm.dag())\n",
    "                \n",
    "    def add_2photon_drive(self, r_max: float, tau: float) -> None:\n",
    "        \"\"\"add two-photon parametric drive.\n",
    "        \n",
    "        inputs\n",
    "        r_max: max parametric gain\n",
    "        tau: effective protocol speed\"\"\"\n",
    "        \n",
    "        lambda_ = '{0} * np.tanh( 2 * {1} * np.tanh( t / (2 * {2}) ) ) / 2'.format(self.wc, r_max, tau)\n",
    "        self.h = [self.h, [-(self.a.dag() ** 2 + self.a ** 2), lambda_]] \n",
    "\n",
    "    def generator(self, bloch: np.ndarray) -> None:\n",
    "        \"\"\"generator for qfi.\n",
    "\n",
    "        inputs\n",
    "        bloch: qubit bloch vectors\"\"\"\n",
    "\n",
    "        # reinitialize generator\n",
    "        self.gen: qutip.qobj.Qobj = 0\n",
    "\n",
    "        for i in range(self.na):\n",
    "            self.qeye_op_list()\n",
    "            self.op_list[i] = 0.5 * (bloch[i,0] * sigmax() + bloch[i,1] * sigmay() + bloch[i,2] * sigmaz())\n",
    "            self.gen += tensor(self.op_list)\n",
    "\n",
    "    def collapse_ops(self, qubit_diss: float, cavity_diss: float, n_cavity: float) -> None:\n",
    "        \"\"\"list of collpase operators.\n",
    "\n",
    "        inputs\n",
    "        qubit_diss: qubit dissipation rate\n",
    "        cavity_diss: cavity relaxation rate\n",
    "        n_cavity: average excitation thermal cavity\"\"\"\n",
    "\n",
    "        # qubit dissipation\n",
    "        rate = qubit_diss\n",
    "        if rate > 0.0:\n",
    "            for sm in self.sms:\n",
    "                self.c_ops.append(np.sqrt(rate) * sm)\n",
    "\n",
    "        # cavity relaxation\n",
    "        rate = cavity_diss * (1 + n_cavity)\n",
    "        if rate > 0.0:\n",
    "            self.c_ops.append(np.sqrt(rate) * self.a)\n",
    "\n",
    "        # cavity excitation\n",
    "        rate = cavity_diss * n_cavity\n",
    "        if rate > 0.0:\n",
    "            self.c_ops.append(np.sqrt(rate) * self.a.dag())\n",
    "            \n",
    "            \n",
    "            \n",
    "    # take operators and extract states of interest and reduce to new operators in new subspace\n",
    "    def soi_ops(self, soi: np.ndarray, state: qutip.qobj.Qobj) -> None:\n",
    "        \"\"\"operators written in terms of states of interest.\"\"\"\n",
    "\n",
    "        self.h_soi = self.h.extract_states(soi)\n",
    "        self.state_soi = state.extract_states(soi)\n",
    "        self.c_ops_soi = [c_op.extract_states(soi) for c_op in self.c_ops]\n",
    "        self.gen_soi = self.gen.extract_states(soi)"
   ]
  },
  {
   "cell_type": "code",
   "execution_count": 94,
   "metadata": {},
   "outputs": [],
   "source": [
    "def initiate_model(model_params: dict, drive_params: dict, collapse_params: dict) -> object:\n",
    "    \"\"\"initate model including 2 photon driving and collapse operators.\n",
    "    \n",
    "    model_params: model parameters\n",
    "    drive_params: parametric driving parameters\n",
    "    collapse params: collapse parameters\"\"\"\n",
    "    \n",
    "    model_ = model(**model_params)\n",
    "    model_.composite()\n",
    "    model_.add_2photon_drive(**drive_params)\n",
    "    model_.collapse_ops(**collapse_params)\n",
    "    \n",
    "    return model_"
   ]
  },
  {
   "cell_type": "code",
   "execution_count": 95,
   "metadata": {},
   "outputs": [],
   "source": [
    "class qfi(object):\n",
    "    \"\"\"quantum fisher information.\"\"\"\n",
    "\n",
    "    def __init__(self, state: qutip.qobj.Qobj, gen: qutip.qobj.Qobj) -> None:\n",
    "\n",
    "        self.state = state   # state\n",
    "        self.gen = gen       # generator\n",
    "\n",
    "    def pure(self) -> float:\n",
    "        \"\"\"qfi pure state.\n",
    "\n",
    "        outputs\n",
    "        4fq: qfi\"\"\"\n",
    "\n",
    "        # compute qfi\n",
    "        fq = variance(self.gen, self.state)\n",
    "\n",
    "        return 4*np.real(fq)\n",
    "\n",
    "    def mixed(self) -> float:\n",
    "        \"\"\"qfi mixed state.\n",
    "\n",
    "        outputs\n",
    "        4fq: qfi\"\"\"\n",
    "\n",
    "        # eigenvalues, eigenstates of density matrix\n",
    "        evals, evecs = self.state.eigenstates()\n",
    "\n",
    "        # initialize qfi\n",
    "        fq: float = 0\n",
    "\n",
    "        # compute qfi\n",
    "        for i in np.arange(evals.shape[0]):\n",
    "            for j in np.arange(i):\n",
    "                if evals[i] + evals[j] > 0:\n",
    "                    fq += ((evals[i] - evals[j])**2/(evals[i] + evals[j]))*np.abs(self.gen.matrix_element(evecs[i], evecs[j]))**2\n",
    "\n",
    "        return 4*np.real(fq)"
   ]
  },
  {
   "cell_type": "code",
   "execution_count": 96,
   "metadata": {},
   "outputs": [],
   "source": [
    "class objectives(object):\n",
    "    \"\"\"objectives to be optimized.\"\"\"\n",
    "\n",
    "    def __init__(self, model: object, state: qutip.qobj.Qobj, state_type: str) -> None:\n",
    "\n",
    "        self.model = model\n",
    "        self.state = state\n",
    "        self.state_type = state_type\n",
    "\n",
    "    def optimize_qfi(self, params: dict) -> float:\n",
    "        \"\"\"optimize qfi over bloch vectors.\"\"\"\n",
    "\n",
    "        # reformat bloch vectors to cartesian\n",
    "        bloch_xyz = dict_to_arrays_bloch(params)\n",
    "\n",
    "        # update generator\n",
    "        self.model.generator(bloch_xyz)\n",
    "\n",
    "        # qfi\n",
    "        qfi_ = qfi(self.state, self.model.gen)\n",
    "\n",
    "        if self.state_type == 'pure':\n",
    "            cost = (qfi_.pure() + 1e-10)**(-1)\n",
    "\n",
    "        if self.state_type == 'mixed':\n",
    "            cost = (qfi_.mixed() + 1e-10)**(-1)\n",
    "\n",
    "        # cost\n",
    "        return cost"
   ]
  },
  {
   "cell_type": "code",
   "execution_count": 97,
   "metadata": {},
   "outputs": [],
   "source": [
    "def optimize(objective: callable, params: dict, max_evals: int) -> dict:\n",
    "    \"\"\"bayesian optimization.\n",
    "    \n",
    "    objective: objective function\n",
    "    params: parameters to be optimized\n",
    "    max_evals: max iterations\"\"\"\n",
    "\n",
    "    # create algorithm\n",
    "    tpe_algo = tpe.suggest\n",
    "\n",
    "    # create trials object, tracks results\n",
    "    tpe_trials = Trials()\n",
    "\n",
    "    # run with tpe algorithm\n",
    "    tpe_best = fmin(fn=objective, space=params,\n",
    "                    algo=tpe_algo, trials=tpe_trials,\n",
    "                    max_evals=max_evals)\n",
    "\n",
    "    return tpe_best"
   ]
  },
  {
   "cell_type": "code",
   "execution_count": 98,
   "metadata": {},
   "outputs": [],
   "source": [
    "def bloch_params(na: int) -> dict:\n",
    "    \"\"\"bloch vectors domain for optimization.\n",
    "\n",
    "    inputs\n",
    "    na: number of atoms\n",
    "\n",
    "    outputs\n",
    "    params: dict of bloch vectors domain\"\"\"\n",
    "\n",
    "    # initialize parameters domain\n",
    "    params = {}\n",
    "\n",
    "    # build parameters domain\n",
    "    for i in range(na):\n",
    "\n",
    "        params['bloch theta {}'.format(i)] = hp.uniform('bloch theta {}'.format(i), 0, 2*np.pi)\n",
    "        params['bloch phi {}'.format(i)] = hp.uniform('bloch phi {}'.format(i), 0, np.pi)\n",
    "\n",
    "    return params"
   ]
  },
  {
   "cell_type": "code",
   "execution_count": 99,
   "metadata": {},
   "outputs": [],
   "source": [
    "def dict_to_arrays_bloch(params: dict) -> tuple:\n",
    "    \"\"\"convert dict to arrays.\n",
    "\n",
    "    inputs\n",
    "    params: hyperopt parameters\"\"\"\n",
    "\n",
    "    # make array\n",
    "    bloch_sph = np.asarray([v for k, v in params.items()])\n",
    "\n",
    "    # split by angles\n",
    "    bloch_sph = np.split(bloch_sph, 2)\n",
    "\n",
    "    # convert spherical to cartesian\n",
    "    [bloch_xyz] = spherical_to_cartesian([np.asarray(bloch_sph).T])\n",
    "\n",
    "    # molecule info in rows\n",
    "    return np.asarray(bloch_xyz)"
   ]
  },
  {
   "cell_type": "code",
   "execution_count": 100,
   "metadata": {},
   "outputs": [],
   "source": [
    "def spherical_to_cartesian(sphs: list) -> np.ndarray:\n",
    "    \"\"\"convert spherical to cartesian coordinates.\"\"\"\n",
    "\n",
    "    c_lists = []\n",
    "\n",
    "    for x in sphs:\n",
    "\n",
    "        c_list = [[np.sin(phi)*np.cos(theta), np.sin(phi)*np.sin(theta), np.cos(phi)] for phi, theta in x]\n",
    "        c_lists.append(c_list)\n",
    "\n",
    "    return c_lists"
   ]
  },
  {
   "cell_type": "code",
   "execution_count": 137,
   "metadata": {},
   "outputs": [],
   "source": [
    "# parameters\n",
    "model_params = {'na': 2, 'nc': 10, 'wa': 2 * np.pi, 'wc': 2 * np.pi, 'g': 0.2, 'use_rwa': False}\n",
    "collapse_params = {'qubit_diss': 0.005, 'cavity_diss': 0.05, 'n_cavity': 0}\n",
    "dyn_params = {'t_final': 50, 'num': 10000}\n",
    "psi0 = tensor(basis(2,1), basis(2,0), basis(model_params['nc'], 0)).unit()\n",
    "params = bloch_params(model_params['na'])\n",
    "max_evals = 1000\n",
    "tlist = np.linspace(0, dyn_params['t_final'], dyn_params['num'])\n",
    "num_dpts = 20\n",
    "idx = np.linspace(0, tlist.shape[0] - 1, num_dpts, dtype='int')\n",
    "qfi_opt = np.zeros(num_dpts)\n",
    "\n",
    "bloch_dipole = np.array([[1,0,0] for _ in range(model_.na)])"
   ]
  },
  {
   "cell_type": "code",
   "execution_count": 138,
   "metadata": {},
   "outputs": [],
   "source": [
    "# construct model, run dynamics\n",
    "model_ = model(**model_params)\n",
    "model_.composite()\n",
    "model_.collapse_ops(**collapse_params)\n",
    "\n",
    "# execute the generator (general generator, eq 26)\n",
    "model_.generator(bloch_dipole)\n",
    "\n",
    "outputs_states = mesolve(model_.h, psi0, tlist, model_.c_ops, [])\n",
    "outputs_e_ops = mesolve(model_.h, psi0, tlist, model_.c_ops, [model_.sms[0].dag()*model_.sms[0], model_.sms[1].dag()*model_.sms[1], model_.a.dag()*model_.a])"
   ]
  },
  {
   "cell_type": "code",
   "execution_count": 146,
   "metadata": {},
   "outputs": [],
   "source": [
    "space = [2 for _ in range(model_.na)]\n",
    "space.extend([model_.nc])\n",
    "\n",
    "states = np.array(list(state_number_enumerate(space)))\n",
    "\n",
    "# sum over excitations for each possible state\n",
    "states_subspace = np.sum(states, axis = 1)\n",
    "\n",
    "# restrict to 0/1 excitation subspace (states of interest)\n",
    "soi = np.where((states_subspace==0) | (states_subspace==1) | (states_subspace==2))[0]\n",
    "\n",
    "evals, evecs = model_.h.eigenstates()\n",
    "\n",
    "\n",
    "model_.soi_ops(soi, evecs[1])"
   ]
  },
  {
   "cell_type": "code",
   "execution_count": 147,
   "metadata": {},
   "outputs": [
    {
     "data": {
      "text/plain": [
       "3.034144407631051"
      ]
     },
     "execution_count": 147,
     "metadata": {},
     "output_type": "execute_result"
    }
   ],
   "source": [
    "qfi_ = qfi(model_.state_soi, model_.gen_soi)\n",
    "qfi_.pure()"
   ]
  },
  {
   "cell_type": "code",
   "execution_count": 141,
   "metadata": {},
   "outputs": [
    {
     "data": {
      "text/plain": [
       "3.035174841513363"
      ]
     },
     "execution_count": 141,
     "metadata": {},
     "output_type": "execute_result"
    }
   ],
   "source": [
    "qfi_ = qfi(evecs[1], model_.gen)\n",
    "qfi_.pure()"
   ]
  },
  {
   "cell_type": "code",
   "execution_count": null,
   "metadata": {},
   "outputs": [],
   "source": []
  }
 ],
 "metadata": {
  "kernelspec": {
   "display_name": "Python 3",
   "language": "python",
   "name": "python3"
  },
  "language_info": {
   "codemirror_mode": {
    "name": "ipython",
    "version": 3
   },
   "file_extension": ".py",
   "mimetype": "text/x-python",
   "name": "python",
   "nbconvert_exporter": "python",
   "pygments_lexer": "ipython3",
   "version": "3.7.4"
  }
 },
 "nbformat": 4,
 "nbformat_minor": 2
}
